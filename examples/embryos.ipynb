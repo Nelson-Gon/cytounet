{
  "nbformat": 4,
  "nbformat_minor": 0,
  "metadata": {
    "colab": {
      "name": "embryos.ipynb",
      "provenance": [],
      "collapsed_sections": []
    },
    "kernelspec": {
      "name": "python3",
      "display_name": "Python 3"
    },
    "accelerator": "GPU"
  },
  "cells": [
    {
      "cell_type": "code",
      "metadata": {
        "id": "-f5z-wueo9Iw",
        "colab_type": "code",
        "colab": {
          "base_uri": "https://localhost:8080/",
          "height": 69
        },
        "outputId": "51b6b7a3-0239-439e-d0b6-084b07479ecf"
      },
      "source": [
        "! ls"
      ],
      "execution_count": null,
      "outputs": [
        {
          "output_type": "stream",
          "text": [
            "aug\t      cytounet\tLICENSE      README.rst        setup.py\n",
            "changelog.md  data\tpredictions  requirements.txt  unet_embryo.hdf5\n",
            "_config.yml   examples\tREADME.md    setup.cfg\n"
          ],
          "name": "stdout"
        }
      ]
    },
    {
      "cell_type": "code",
      "metadata": {
        "id": "KQwx4CgELnx3",
        "colab_type": "code",
        "colab": {}
      },
      "source": [
        "! git clone https://github.com/Nelson-Gon/cytounet.git"
      ],
      "execution_count": null,
      "outputs": []
    },
    {
      "cell_type": "code",
      "metadata": {
        "id": "VrelI9NXLvF7",
        "colab_type": "code",
        "colab": {
          "base_uri": "https://localhost:8080/",
          "height": 35
        },
        "outputId": "f47a44e9-70c5-46a2-d758-d7949dd2bcf0"
      },
      "source": [
        "%cd cytounet"
      ],
      "execution_count": 4,
      "outputs": [
        {
          "output_type": "stream",
          "text": [
            "/content/cytounet\n"
          ],
          "name": "stdout"
        }
      ]
    },
    {
      "cell_type": "code",
      "metadata": {
        "id": "TxC8MW2K0c4h",
        "colab_type": "code",
        "colab": {
          "base_uri": "https://localhost:8080/",
          "height": 35
        },
        "outputId": "e078d855-32b6-4dfe-d985-149a52ee5e59"
      },
      "source": [
        "from cytounet.model import *\n",
        "from cytounet.data import *\n",
        "from cytounet.augmentation import *"
      ],
      "execution_count": 5,
      "outputs": [
        {
          "output_type": "stream",
          "text": [
            "Using TensorFlow backend.\n"
          ],
          "name": "stderr"
        }
      ]
    },
    {
      "cell_type": "code",
      "metadata": {
        "id": "GS0cvR0F0m7n",
        "colab_type": "code",
        "colab": {
          "base_uri": "https://localhost:8080/",
          "height": 35
        },
        "outputId": "7fe0847a-f4c5-4d15-fc6b-c8674d374cb7"
      },
      "source": [
        "!  ls examples/BBBC003_v1/"
      ],
      "execution_count": 6,
      "outputs": [
        {
          "output_type": "stream",
          "text": [
            "images\ttruth\n"
          ],
          "name": "stdout"
        }
      ]
    },
    {
      "cell_type": "code",
      "metadata": {
        "id": "1e4QukyS0tGA",
        "colab_type": "code",
        "colab": {}
      },
      "source": [
        "data_generator_args =  dict(rotation_range=90,\n",
        "                      rescale = 1./255,\n",
        "                    width_shift_range=0.1,\n",
        "                    height_shift_range=0.1,\n",
        "                    shear_range=0.1,\n",
        "                    zoom_range=0.1,\n",
        "                    horizontal_flip=True,\n",
        "                    fill_mode='nearest')"
      ],
      "execution_count": 8,
      "outputs": []
    },
    {
      "cell_type": "code",
      "metadata": {
        "id": "x0SuNOeOqicY",
        "colab_type": "code",
        "colab": {}
      },
      "source": [
        "! if [ ! -d \"aug\" ]; then mkdir aug;fi"
      ],
      "execution_count": null,
      "outputs": []
    },
    {
      "cell_type": "code",
      "metadata": {
        "id": "iQ2PtuOryU45",
        "colab_type": "code",
        "colab": {
          "base_uri": "https://localhost:8080/",
          "height": 52
        },
        "outputId": "ef6e0640-d4a9-4c6c-aaee-a08b8dc3e9d6"
      },
      "source": [
        "!ls"
      ],
      "execution_count": 12,
      "outputs": [
        {
          "output_type": "stream",
          "text": [
            "changelog.md  cytounet\texamples  README.md   requirements.txt\tsetup.py\n",
            "_config.yml   data\tLICENSE   README.rst  setup.cfg\n"
          ],
          "name": "stdout"
        }
      ]
    },
    {
      "cell_type": "code",
      "metadata": {
        "id": "WUy09c1bb68o",
        "colab_type": "code",
        "colab": {}
      },
      "source": [
        "# use actual paths, for some reason paths were messed up\n",
        "train_gen = trainGenerator(2, \"examples/BBBC003_v1\",\"images\", \"truth\",aug_dict = data_generator_args,\n",
        "                                 seed = 423, target_size = (256, 256), save_to_dir=None)"
      ],
      "execution_count": 13,
      "outputs": []
    },
    {
      "cell_type": "code",
      "metadata": {
        "id": "JZd0AXcL1saN",
        "colab_type": "code",
        "colab": {}
      },
      "source": [
        "model = unet(input_size = (256, 256, 1), metrics=['accuracy'], loss='binary_crossentropy', learning_rate=1e-4)"
      ],
      "execution_count": 14,
      "outputs": []
    },
    {
      "cell_type": "code",
      "metadata": {
        "id": "kVoRObBweaZn",
        "colab_type": "code",
        "colab": {
          "base_uri": "https://localhost:8080/",
          "height": 225
        },
        "outputId": "19e2c91f-8a13-45eb-ecf4-734363654cd5"
      },
      "source": [
        "history = model.fit_generator(train_gen, steps_per_epoch=2000,epochs=5)"
      ],
      "execution_count": 15,
      "outputs": [
        {
          "output_type": "stream",
          "text": [
            "Epoch 1/5\n",
            "Found 15 images belonging to 1 classes.\n",
            "Found 15 images belonging to 1 classes.\n",
            "2000/2000 [==============================] - 1069s 535ms/step - loss: 0.0422 - accuracy: 0.9839\n",
            "Epoch 2/5\n",
            "2000/2000 [==============================] - 1054s 527ms/step - loss: 0.0115 - accuracy: 0.9928\n",
            "Epoch 3/5\n",
            "2000/2000 [==============================] - 1055s 528ms/step - loss: 0.0086 - accuracy: 0.9933\n",
            "Epoch 4/5\n",
            "2000/2000 [==============================] - 1051s 525ms/step - loss: 0.0075 - accuracy: 0.9935\n",
            "Epoch 5/5\n",
            "2000/2000 [==============================] - 1055s 528ms/step - loss: 0.0067 - accuracy: 0.9937\n"
          ],
          "name": "stdout"
        }
      ]
    },
    {
      "cell_type": "code",
      "metadata": {
        "id": "Qlr1nzZe2BPM",
        "colab_type": "code",
        "colab": {
          "base_uri": "https://localhost:8080/",
          "height": 283
        },
        "outputId": "5ddaba47-e23a-4a11-c6d1-daba63e7af6d"
      },
      "source": [
        "plt.plot(history.history['loss'])\n",
        "plt.plot(history.history['accuracy'])\n",
        "plt.legend(['loss', 'accuracy'])"
      ],
      "execution_count": 22,
      "outputs": [
        {
          "output_type": "execute_result",
          "data": {
            "text/plain": [
              "<matplotlib.legend.Legend at 0x7f10e9988400>"
            ]
          },
          "metadata": {
            "tags": []
          },
          "execution_count": 22
        },
        {
          "output_type": "display_data",
          "data": {
            "image/png": "[encoded data removed]",
            "text/plain": [
              "<Figure size 432x288 with 1 Axes>"
            ]
          },
          "metadata": {
            "tags": [],
            "needs_background": "light"
          }
        }
      ]
    },
    {
      "cell_type": "code",
      "metadata": {
        "id": "xh_J7yKEHlws",
        "colab_type": "code",
        "colab": {}
      },
      "source": [
        "# make aug data for testing, best to have actual test/validation data\n",
        "train_gen = trainGenerator(2, \"examples/BBBC003_v1\",\"images\", \"truth\",aug_dict = data_generator_args,\n",
        "                                 seed = 423, target_size = (256, 256), save_to_dir=\"aug\")"
      ],
      "execution_count": 31,
      "outputs": []
    },
    {
      "cell_type": "code",
      "metadata": {
        "id": "o3eIpeOtHuc6",
        "colab_type": "code",
        "colab": {
          "base_uri": "https://localhost:8080/",
          "height": 52
        },
        "outputId": "e257e9a1-ccfc-4a75-d29c-1a627ae7f1a2"
      },
      "source": [
        "batches = 5\n",
        "for index, batch in enumerate(train_gen):\n",
        "  if index > batches:\n",
        "    break"
      ],
      "execution_count": 32,
      "outputs": [
        {
          "output_type": "stream",
          "text": [
            "Found 15 images belonging to 1 classes.\n",
            "Found 15 images belonging to 1 classes.\n"
          ],
          "name": "stdout"
        }
      ]
    },
    {
      "cell_type": "code",
      "metadata": {
        "id": "l9d36WVdH3us",
        "colab_type": "code",
        "colab": {}
      },
      "source": [
        "! ls aug"
      ],
      "execution_count": 33,
      "outputs": []
    },
    {
      "cell_type": "code",
      "metadata": {
        "id": "fXMGDzVq3Bas",
        "colab_type": "code",
        "colab": {}
      },
      "source": [
        "! if [  -d \"aug/images\" ];then  mv aug/image_* aug/images && mv aug/mask_* aug/masks;fi"
      ],
      "execution_count": 35,
      "outputs": []
    },
    {
      "cell_type": "code",
      "metadata": {
        "id": "j7oUWzM17Suj",
        "colab_type": "code",
        "colab": {
          "base_uri": "https://localhost:8080/",
          "height": 223
        },
        "outputId": "e66e6fa7-eedd-4803-87b3-9071739c4187"
      },
      "source": [
        "show_images(\"aug/masks\", image_suffix=\"png\", number = 12)"
      ],
      "execution_count": 36,
      "outputs": [
        {
          "output_type": "display_data",
          "data": {
            "image/png": "[encoded data removed]",
            "text/plain": [
              "<Figure size 720x720 with 12 Axes>"
            ]
          },
          "metadata": {
            "tags": [],
            "needs_background": "light"
          }
        }
      ]
    },
    {
      "cell_type": "code",
      "metadata": {
        "id": "GH78E6Ko7_IQ",
        "colab_type": "code",
        "colab": {
          "base_uri": "https://localhost:8080/",
          "height": 35
        },
        "outputId": "a4af57d1-d72d-4e6d-8bcb-2af6d78e802e"
      },
      "source": [
        "!  ls data"
      ],
      "execution_count": 24,
      "outputs": [
        {
          "output_type": "stream",
          "text": [
            "test  test-volume.tif  train  train-labels.tif\ttrain-volume.tif\n"
          ],
          "name": "stdout"
        }
      ]
    },
    {
      "cell_type": "code",
      "metadata": {
        "id": "ECulmn3U6aq7",
        "colab_type": "code",
        "colab": {}
      },
      "source": [
        "test_images = testGenerator(\"aug/images\", 10, image_suffix=\"png\")"
      ],
      "execution_count": 37,
      "outputs": []
    },
    {
      "cell_type": "code",
      "metadata": {
        "id": "9GR9Sd7o6t1v",
        "colab_type": "code",
        "colab": {}
      },
      "source": [
        "model.save(\"unet_embryo.hdf5\")"
      ],
      "execution_count": 38,
      "outputs": []
    },
    {
      "cell_type": "code",
      "metadata": {
        "id": "YSCC9Xbr6w1G",
        "colab_type": "code",
        "colab": {}
      },
      "source": [
        "model = unet(pretrained_weights=\"unet_embryo.hdf5\")"
      ],
      "execution_count": 39,
      "outputs": []
    },
    {
      "cell_type": "code",
      "metadata": {
        "id": "gcnBNBOe62NA",
        "colab_type": "code",
        "colab": {
          "base_uri": "https://localhost:8080/",
          "height": 35
        },
        "outputId": "b06ecb9b-ed0a-4fd2-9ae5-1c13e2018369"
      },
      "source": [
        "results = model.predict_generator(test_images, 10, verbose=1)"
      ],
      "execution_count": 40,
      "outputs": [
        {
          "output_type": "stream",
          "text": [
            "10/10 [==============================] - 2s 163ms/step\n"
          ],
          "name": "stdout"
        }
      ]
    },
    {
      "cell_type": "code",
      "metadata": {
        "id": "BK8ymASo7AhL",
        "colab_type": "code",
        "colab": {
          "base_uri": "https://localhost:8080/",
          "height": 258
        },
        "outputId": "55300cc6-6f85-49d1-a0bd-a45892622b45"
      },
      "source": [
        "show_images(results, number = 10)"
      ],
      "execution_count": 41,
      "outputs": [
        {
          "output_type": "display_data",
          "data": {
            "image/png": "[encoded data removed]",
            "text/plain": [
              "<Figure size 720x720 with 10 Axes>"
            ]
          },
          "metadata": {
            "tags": [],
            "needs_background": "light"
          }
        }
      ]
    },
    {
      "cell_type": "code",
      "metadata": {
        "id": "0fz4G73BoSFA",
        "colab_type": "code",
        "colab": {}
      },
      "source": [
        "! if [ ! -d \"predictions\" ];then mkdir predictions;fi"
      ],
      "execution_count": 42,
      "outputs": []
    },
    {
      "cell_type": "code",
      "metadata": {
        "id": "3V9_PihA8jNf",
        "colab_type": "code",
        "colab": {}
      },
      "source": [
        "saveImages(\"predictions\", results,\"predicted_\", image_suffix=\"png\")"
      ],
      "execution_count": 43,
      "outputs": []
    },
    {
      "cell_type": "code",
      "metadata": {
        "id": "NHGUfrxF8pom",
        "colab_type": "code",
        "colab": {
          "base_uri": "https://localhost:8080/",
          "height": 312
        },
        "outputId": "74f34786-eb4e-4046-b87a-64a4eb491517"
      },
      "source": [
        "show_images(\"predictions\",image_suffix=\"png\",number = 8)"
      ],
      "execution_count": 44,
      "outputs": [
        {
          "output_type": "display_data",
          "data": {
            "image/png": "[encoded data removed]",
            "text/plain": [
              "<Figure size 720x720 with 8 Axes>"
            ]
          },
          "metadata": {
            "tags": [],
            "needs_background": "light"
          }
        }
      ]
    }
  ]
}