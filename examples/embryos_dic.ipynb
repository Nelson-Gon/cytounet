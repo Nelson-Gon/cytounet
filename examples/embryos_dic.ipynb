{
 "cells": [
  {
   "cell_type": "code",
   "execution_count": 1,
   "metadata": {},
   "outputs": [
    {
     "name": "stdout",
     "output_type": "stream",
     "text": [
      "Cloning into 'cytounet'...\r\n",
      "remote: Enumerating objects: 161, done.\u001b[K\r\n",
      "remote: Counting objects: 100% (161/161), done.\u001b[K\r\n",
      "remote: Compressing objects: 100% (119/119), done.\u001b[K\r\n",
      "remote: Total 887 (delta 99), reused 97 (delta 40), pack-reused 726\u001b[K\r\n",
      "Receiving objects: 100% (887/887), 50.12 MiB | 37.52 MiB/s, done.\r\n",
      "Resolving deltas: 100% (373/373), done.\r\n"
     ]
    }
   ],
   "source": [
    "! git clone https://github.com/Nelson-Gon/cytounet.git"
   ]
  },
  {
   "cell_type": "code",
   "execution_count": 2,
   "metadata": {},
   "outputs": [
    {
     "name": "stdout",
     "output_type": "stream",
     "text": [
      "/kaggle/working/cytounet\n"
     ]
    }
   ],
   "source": [
    "%cd cytounet"
   ]
  },
  {
   "cell_type": "code",
   "execution_count": 3,
   "metadata": {},
   "outputs": [],
   "source": [
    "from cytounet.model import *\n",
    "from cytounet.data import *\n",
    "from cytounet.augmentation import *"
   ]
  },
  {
   "cell_type": "code",
   "execution_count": 4,
   "metadata": {
    "_cell_guid": "79c7e3d0-c299-4dcb-8224-4455121ee9b0",
    "_uuid": "d629ff2d2480ee46fbb7e2d37f6b5fab8052498a"
   },
   "outputs": [
    {
     "name": "stdout",
     "output_type": "stream",
     "text": [
      "images\ttruth\r\n"
     ]
    }
   ],
   "source": [
    "!  ls examples/BBBC003_v1/"
   ]
  },
  {
   "cell_type": "code",
   "execution_count": 5,
   "metadata": {},
   "outputs": [],
   "source": [
    "data_generator_args =  dict(rotation_range=0.1,\n",
    "                      rescale = 1./255,\n",
    "                    width_shift_range=0.1,\n",
    "                    height_shift_range=0.1,\n",
    "                    shear_range=0.1,\n",
    "                    zoom_range=0.1,\n",
    "                    horizontal_flip=True,\n",
    "                    fill_mode='nearest')"
   ]
  },
  {
   "cell_type": "code",
   "execution_count": 6,
   "metadata": {},
   "outputs": [],
   "source": [
    "! if [ ! -d \"aug\" ]; then mkdir aug;fi"
   ]
  },
  {
   "cell_type": "code",
   "execution_count": 7,
   "metadata": {},
   "outputs": [],
   "source": [
    "train_gen = generate_train_data(5, \"examples/BBBC003_v1\",\"images\", \"truth\",aug_dict = data_generator_args,\n",
    "                                 seed = 2, target_size = (256, 256), save_to_dir=\"aug\")"
   ]
  },
  {
   "cell_type": "code",
   "execution_count": 8,
   "metadata": {},
   "outputs": [
    {
     "name": "stdout",
     "output_type": "stream",
     "text": [
      "Found 15 images belonging to 1 classes.\n",
      "Found 15 images belonging to 1 classes.\n"
     ]
    }
   ],
   "source": [
    "for i, batch in enumerate(train_gen):\n",
    "    if i>= 5:\n",
    "        break"
   ]
  },
  {
   "cell_type": "code",
   "execution_count": 9,
   "metadata": {},
   "outputs": [
    {
     "name": "stdout",
     "output_type": "stream",
     "text": [
      "60\r\n"
     ]
    }
   ],
   "source": [
    "! ls aug | wc -l"
   ]
  },
  {
   "cell_type": "code",
   "execution_count": 10,
   "metadata": {},
   "outputs": [],
   "source": [
    "! if [ ! -d  \"aug/images\" ]; then mkdir aug/images aug/masks;fi"
   ]
  },
  {
   "cell_type": "code",
   "execution_count": 11,
   "metadata": {},
   "outputs": [
    {
     "name": "stdout",
     "output_type": "stream",
     "text": [
      "30\r\n"
     ]
    }
   ],
   "source": [
    "! mv aug/image_* aug/images && mv aug/mask_* aug/masks && ls aug/masks | wc -l"
   ]
  },
  {
   "cell_type": "code",
   "execution_count": 12,
   "metadata": {},
   "outputs": [],
   "source": [
    "images, masks = load_augmentations(\"aug/images\",\"aug/masks\")"
   ]
  },
  {
   "cell_type": "code",
   "execution_count": 13,
   "metadata": {},
   "outputs": [
    {
     "data": {
      "image/png": "[encoded data removed]",
      "text/plain": [
       "<Figure size 720x720 with 10 Axes>"
      ]
     },
     "metadata": {
      "needs_background": "light"
     },
     "output_type": "display_data"
    }
   ],
   "source": [
    "show_images(masks, number=10)"
   ]
  },
  {
   "cell_type": "code",
   "execution_count": 14,
   "metadata": {},
   "outputs": [],
   "source": [
    "model = unet(input_size = (256, 256, 1), learning_rate = 3e-5, metrics=[\"accuracy\"],\n",
    "            loss=[\"binary_crossentropy\"])"
   ]
  },
  {
   "cell_type": "code",
   "execution_count": 15,
   "metadata": {},
   "outputs": [
    {
     "name": "stdout",
     "output_type": "stream",
     "text": [
      "Epoch 1/8\n",
      "250/250 [==============================] - 51s 203ms/step - loss: 0.0316 - accuracy: 0.9865\n",
      "Epoch 2/8\n",
      "250/250 [==============================] - 51s 205ms/step - loss: 0.0265 - accuracy: 0.9871\n",
      "Epoch 3/8\n",
      "250/250 [==============================] - 51s 205ms/step - loss: 0.0179 - accuracy: 0.9900\n",
      "Epoch 4/8\n",
      "250/250 [==============================] - 51s 205ms/step - loss: 0.0150 - accuracy: 0.9910\n",
      "Epoch 5/8\n",
      "250/250 [==============================] - 52s 206ms/step - loss: 0.0145 - accuracy: 0.9913\n",
      "Epoch 6/8\n",
      "250/250 [==============================] - 51s 203ms/step - loss: 0.0104 - accuracy: 0.9925\n",
      "Epoch 7/8\n",
      "250/250 [==============================] - 51s 204ms/step - loss: 0.0105 - accuracy: 0.9926\n",
      "Epoch 8/8\n",
      "250/250 [==============================] - 50s 201ms/step - loss: 0.0120 - accuracy: 0.9922\n"
     ]
    }
   ],
   "source": [
    "history = model.fit_generator(train_gen, steps_per_epoch=250,epochs=8)"
   ]
  },
  {
   "cell_type": "code",
   "execution_count": 16,
   "metadata": {},
   "outputs": [],
   "source": [
    "model.save(\"unet_embryo.hdf5\")"
   ]
  },
  {
   "cell_type": "code",
   "execution_count": 17,
   "metadata": {},
   "outputs": [
    {
     "name": "stdout",
     "output_type": "stream",
     "text": [
      "15/15 [==============================] - 0s 18ms/step\n"
     ]
    }
   ],
   "source": [
    "\n",
    "results = predict(model_object=unet(),test_path=\"aug/images\", model_weights=\"unet_embryo.hdf5\",\n",
    "                  image_length=15, image_suffix=\"png\")\n"
   ]
  },
  {
   "cell_type": "code",
   "execution_count": 18,
   "metadata": {},
   "outputs": [
    {
     "data": {
      "image/png": "[encoded data removed]",
      "text/plain": [
       "<Figure size 720x720 with 10 Axes>"
      ]
     },
     "metadata": {
      "needs_background": "light"
     },
     "output_type": "display_data"
    }
   ],
   "source": [
    "show_images(results, number = 10)"
   ]
  }
 ],
 "metadata": {
  "kernelspec": {
   "display_name": "Python 3",
   "language": "python",
   "name": "python3"
  },
  "language_info": {
   "codemirror_mode": {
    "name": "ipython",
    "version": 3
   },
   "file_extension": ".py",
   "mimetype": "text/x-python",
   "name": "python",
   "nbconvert_exporter": "python",
   "pygments_lexer": "ipython3",
   "version": "3.7.6"
  }
 },
 "nbformat": 4,
 "nbformat_minor": 4
}
